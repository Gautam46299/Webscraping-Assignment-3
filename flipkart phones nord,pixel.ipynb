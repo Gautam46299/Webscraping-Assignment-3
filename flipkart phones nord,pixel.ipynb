{
 "cells": [
  {
   "cell_type": "markdown",
   "id": "ea966cb7",
   "metadata": {},
   "source": [
    "# ASSIGNMENT-3"
   ]
  },
  {
   "cell_type": "markdown",
   "id": "f7cc058f",
   "metadata": {},
   "source": [
    "Ans-4"
   ]
  },
  {
   "cell_type": "code",
   "execution_count": 31,
   "id": "0952a94d",
   "metadata": {},
   "outputs": [],
   "source": [
    "import selenium\n",
    "import pandas as pd\n",
    "from selenium import webdriver\n",
    "import time\n",
    "from selenium.common.exceptions import NoSuchElementException\n",
    "from selenium.webdriver.common.keys import Keys"
   ]
  },
  {
   "cell_type": "code",
   "execution_count": 32,
   "id": "5f7343b9",
   "metadata": {},
   "outputs": [],
   "source": [
    "from selenium import webdriver\n",
    "from selenium.webdriver.chrome.service import Service\n",
    "\n",
    "s = Service(r'C:/Users/DELL/Downloads/chromedriver_win32/chromedriver.exe')\n",
    "driver = webdriver.Chrome(service=s)"
   ]
  },
  {
   "cell_type": "code",
   "execution_count": 33,
   "id": "fc99b160",
   "metadata": {},
   "outputs": [],
   "source": [
    "driver.get('https://www.flipkart.com/')"
   ]
  },
  {
   "cell_type": "code",
   "execution_count": 35,
   "id": "d22f5400",
   "metadata": {},
   "outputs": [
    {
     "name": "stderr",
     "output_type": "stream",
     "text": [
      "C:\\Users\\DELL\\AppData\\Local\\Temp/ipykernel_19148/4000346680.py:1: DeprecationWarning: find_element_by_xpath is deprecated. Please use find_element(by=By.XPATH, value=xpath) instead\n",
      "  search_bar=driver.find_element_by_xpath(\"//input[@type='text']\")\n",
      "C:\\Users\\DELL\\AppData\\Local\\Temp/ipykernel_19148/4000346680.py:4: DeprecationWarning: find_element_by_xpath is deprecated. Please use find_element(by=By.XPATH, value=xpath) instead\n",
      "  driver.find_element_by_xpath(\"//button[@type='submit']\").click()\n"
     ]
    }
   ],
   "source": [
    "search_bar=driver.find_element_by_xpath(\"//input[@type='text']\")\n",
    "search_bar.send_keys('oppo')  #The smartphone name to be searched\n",
    "\n",
    "driver.find_element_by_xpath(\"//button[@type='submit']\").click()"
   ]
  },
  {
   "cell_type": "code",
   "execution_count": 36,
   "id": "2c7d843a",
   "metadata": {},
   "outputs": [],
   "source": [
    "url=\"https://www.flipkart.com/search?q=oppo&otracker=search&otracker1=search&marketplace=FLIPKART&as-show=on&as=off\"\n",
    "driver.get(url)"
   ]
  },
  {
   "cell_type": "code",
   "execution_count": 37,
   "id": "d56d88fe",
   "metadata": {},
   "outputs": [
    {
     "name": "stderr",
     "output_type": "stream",
     "text": [
      "C:\\Users\\DELL\\AppData\\Local\\Temp/ipykernel_19148/2621986145.py:17: DeprecationWarning: find_elements_by_xpath is deprecated. Please use find_elements(by=By.XPATH, value=xpath) instead\n",
      "  urls=driver.find_elements_by_xpath(\"//a[@class='_1fQZEK']\")\n",
      "C:\\Users\\DELL\\AppData\\Local\\Temp/ipykernel_19148/2621986145.py:27: DeprecationWarning: find_element_by_xpath is deprecated. Please use find_element(by=By.XPATH, value=xpath) instead\n",
      "  driver.find_element_by_xpath(\"//button[@class='_2KpZ6l _1FH0tX']\").click()\n",
      "C:\\Users\\DELL\\AppData\\Local\\Temp/ipykernel_19148/2621986145.py:31: DeprecationWarning: find_element_by_xpath is deprecated. Please use find_element(by=By.XPATH, value=xpath) instead\n",
      "  brand=driver.find_element_by_xpath(\"//span[@class='B_NuCI']\").text.split()\n",
      "C:\\Users\\DELL\\AppData\\Local\\Temp/ipykernel_19148/2621986145.py:37: DeprecationWarning: find_element_by_xpath is deprecated. Please use find_element(by=By.XPATH, value=xpath) instead\n",
      "  phone=driver.find_element_by_xpath(\"//div[@class='_1UhVsV']/div[1]/table/tbody/tr[3]/td[2]\")\n",
      "C:\\Users\\DELL\\AppData\\Local\\Temp/ipykernel_19148/2621986145.py:43: DeprecationWarning: find_element_by_xpath is deprecated. Please use find_element(by=By.XPATH, value=xpath) instead\n",
      "  color=driver.find_element_by_xpath(\"//div[@class='_1UhVsV']/div[1]/table/tbody/tr[4]/td[2]\")\n",
      "C:\\Users\\DELL\\AppData\\Local\\Temp/ipykernel_19148/2621986145.py:49: DeprecationWarning: find_element_by_xpath is deprecated. Please use find_element(by=By.XPATH, value=xpath) instead\n",
      "  RAM.append(driver.find_element_by_xpath('//div[@class=\"_1UhVsV\"]/div[4]/table/tbody/tr[2]/td[2]').text)\n",
      "C:\\Users\\DELL\\AppData\\Local\\Temp/ipykernel_19148/2621986145.py:54: DeprecationWarning: find_element_by_xpath is deprecated. Please use find_element(by=By.XPATH, value=xpath) instead\n",
      "  ROM.append(driver.find_element_by_xpath('//div[@class=\"_1UhVsV\"]/div[4]/table/tbody/tr[1]/td[2]').text)\n",
      "C:\\Users\\DELL\\AppData\\Local\\Temp/ipykernel_19148/2621986145.py:59: DeprecationWarning: find_element_by_xpath is deprecated. Please use find_element(by=By.XPATH, value=xpath) instead\n",
      "  p_cam.append(driver.find_element_by_xpath('//div[@class=\"_1UhVsV\"]/div[5]/table/tbody/tr[2]/td[2]').text)\n",
      "C:\\Users\\DELL\\AppData\\Local\\Temp/ipykernel_19148/2621986145.py:64: DeprecationWarning: find_element_by_xpath is deprecated. Please use find_element(by=By.XPATH, value=xpath) instead\n",
      "  s_cam.append(driver.find_element_by_xpath('//div[@class=\"_1UhVsV\"]/div[5]/table/tbody/tr[5]/td[2]').text)\n",
      "C:\\Users\\DELL\\AppData\\Local\\Temp/ipykernel_19148/2621986145.py:69: DeprecationWarning: find_element_by_xpath is deprecated. Please use find_element(by=By.XPATH, value=xpath) instead\n",
      "  d_size.append(driver.find_element_by_xpath('//div[@class=\"_1UhVsV\"]/div[2]/table/tbody/tr[1]/td[2]').text)\n",
      "C:\\Users\\DELL\\AppData\\Local\\Temp/ipykernel_19148/2621986145.py:74: DeprecationWarning: find_element_by_xpath is deprecated. Please use find_element(by=By.XPATH, value=xpath) instead\n",
      "  d_resolution.append(driver.find_element_by_xpath('//div[@class=\"_1UhVsV\"]/div[2]/table/tbody/tr[2]/td[2]').text)\n",
      "C:\\Users\\DELL\\AppData\\Local\\Temp/ipykernel_19148/2621986145.py:79: DeprecationWarning: find_element_by_xpath is deprecated. Please use find_element(by=By.XPATH, value=xpath) instead\n",
      "  processor.append(driver.find_element_by_xpath('//div[@class=\"_1UhVsV\"]/div[3]/table/tbody/tr[2]/td[2]').text)\n",
      "C:\\Users\\DELL\\AppData\\Local\\Temp/ipykernel_19148/2621986145.py:84: DeprecationWarning: find_element_by_xpath is deprecated. Please use find_element(by=By.XPATH, value=xpath) instead\n",
      "  processor_core.append(driver.find_element_by_xpath('//div[@class=\"_1UhVsV\"]/div[3]/table/tbody/tr[3]/td[2]').text)\n",
      "C:\\Users\\DELL\\AppData\\Local\\Temp/ipykernel_19148/2621986145.py:89: DeprecationWarning: find_element_by_xpath is deprecated. Please use find_element(by=By.XPATH, value=xpath) instead\n",
      "  battery.append(driver.find_element_by_xpath('//div[@class=\"_1UhVsV\"]/div[10]/table/tbody/tr[1]/td[2]').text)\n",
      "C:\\Users\\DELL\\AppData\\Local\\Temp/ipykernel_19148/2621986145.py:94: DeprecationWarning: find_element_by_xpath is deprecated. Please use find_element(by=By.XPATH, value=xpath) instead\n",
      "  price.append(driver.find_element_by_xpath('//div[@class=\"dyC4hf\"]/div/div/div').text)\n"
     ]
    },
    {
     "ename": "NoSuchElementException",
     "evalue": "Message: no such element: Unable to locate element: {\"method\":\"xpath\",\"selector\":\"//button[@class='_2KpZ6l _1FH0tX']\"}\n  (Session info: chrome=99.0.4844.82)\nStacktrace:\nBacktrace:\n\tOrdinal0 [0x003D9943+2595139]\n\tOrdinal0 [0x0036C9F1+2148849]\n\tOrdinal0 [0x00264528+1066280]\n\tOrdinal0 [0x00290FD4+1249236]\n\tOrdinal0 [0x002911CB+1249739]\n\tOrdinal0 [0x002BD812+1431570]\n\tOrdinal0 [0x002ABA34+1358388]\n\tOrdinal0 [0x002BBAF2+1424114]\n\tOrdinal0 [0x002AB806+1357830]\n\tOrdinal0 [0x00286086+1204358]\n\tOrdinal0 [0x00286F96+1208214]\n\tGetHandleVerifier [0x0057B232+1658114]\n\tGetHandleVerifier [0x0063312C+2411516]\n\tGetHandleVerifier [0x0046F261+560433]\n\tGetHandleVerifier [0x0046E366+556598]\n\tOrdinal0 [0x0037286B+2173035]\n\tOrdinal0 [0x003775F8+2192888]\n\tOrdinal0 [0x003776E5+2193125]\n\tOrdinal0 [0x003811FC+2232828]\n\tBaseThreadInitThunk [0x76CCFA29+25]\n\tRtlGetAppContainerNamedObjectPath [0x77C07A7E+286]\n\tRtlGetAppContainerNamedObjectPath [0x77C07A4E+238]\n",
     "output_type": "error",
     "traceback": [
      "\u001b[1;31m---------------------------------------------------------------------------\u001b[0m",
      "\u001b[1;31mNoSuchElementException\u001b[0m                    Traceback (most recent call last)",
      "\u001b[1;32m~\\AppData\\Local\\Temp/ipykernel_19148/2621986145.py\u001b[0m in \u001b[0;36m<module>\u001b[1;34m\u001b[0m\n\u001b[0;32m     25\u001b[0m \u001b[1;33m\u001b[0m\u001b[0m\n\u001b[0;32m     26\u001b[0m \u001b[1;33m\u001b[0m\u001b[0m\n\u001b[1;32m---> 27\u001b[1;33m     \u001b[0mdriver\u001b[0m\u001b[1;33m.\u001b[0m\u001b[0mfind_element_by_xpath\u001b[0m\u001b[1;33m(\u001b[0m\u001b[1;34m\"//button[@class='_2KpZ6l _1FH0tX']\"\u001b[0m\u001b[1;33m)\u001b[0m\u001b[1;33m.\u001b[0m\u001b[0mclick\u001b[0m\u001b[1;33m(\u001b[0m\u001b[1;33m)\u001b[0m\u001b[1;33m\u001b[0m\u001b[1;33m\u001b[0m\u001b[0m\n\u001b[0m\u001b[0;32m     28\u001b[0m \u001b[1;33m\u001b[0m\u001b[0m\n\u001b[0;32m     29\u001b[0m \u001b[1;33m\u001b[0m\u001b[0m\n",
      "\u001b[1;32mC:\\ProgramData\\Anaconda3\\lib\\site-packages\\selenium\\webdriver\\remote\\webdriver.py\u001b[0m in \u001b[0;36mfind_element_by_xpath\u001b[1;34m(self, xpath)\u001b[0m\n\u001b[0;32m    519\u001b[0m             \u001b[0mstacklevel\u001b[0m\u001b[1;33m=\u001b[0m\u001b[1;36m2\u001b[0m\u001b[1;33m,\u001b[0m\u001b[1;33m\u001b[0m\u001b[1;33m\u001b[0m\u001b[0m\n\u001b[0;32m    520\u001b[0m         )\n\u001b[1;32m--> 521\u001b[1;33m         \u001b[1;32mreturn\u001b[0m \u001b[0mself\u001b[0m\u001b[1;33m.\u001b[0m\u001b[0mfind_element\u001b[0m\u001b[1;33m(\u001b[0m\u001b[0mby\u001b[0m\u001b[1;33m=\u001b[0m\u001b[0mBy\u001b[0m\u001b[1;33m.\u001b[0m\u001b[0mXPATH\u001b[0m\u001b[1;33m,\u001b[0m \u001b[0mvalue\u001b[0m\u001b[1;33m=\u001b[0m\u001b[0mxpath\u001b[0m\u001b[1;33m)\u001b[0m\u001b[1;33m\u001b[0m\u001b[1;33m\u001b[0m\u001b[0m\n\u001b[0m\u001b[0;32m    522\u001b[0m \u001b[1;33m\u001b[0m\u001b[0m\n\u001b[0;32m    523\u001b[0m     \u001b[1;32mdef\u001b[0m \u001b[0mfind_elements_by_xpath\u001b[0m\u001b[1;33m(\u001b[0m\u001b[0mself\u001b[0m\u001b[1;33m,\u001b[0m \u001b[0mxpath\u001b[0m\u001b[1;33m)\u001b[0m \u001b[1;33m->\u001b[0m \u001b[0mList\u001b[0m\u001b[1;33m[\u001b[0m\u001b[0mWebElement\u001b[0m\u001b[1;33m]\u001b[0m\u001b[1;33m:\u001b[0m\u001b[1;33m\u001b[0m\u001b[1;33m\u001b[0m\u001b[0m\n",
      "\u001b[1;32mC:\\ProgramData\\Anaconda3\\lib\\site-packages\\selenium\\webdriver\\remote\\webdriver.py\u001b[0m in \u001b[0;36mfind_element\u001b[1;34m(self, by, value)\u001b[0m\n\u001b[0;32m   1246\u001b[0m             \u001b[0mvalue\u001b[0m \u001b[1;33m=\u001b[0m \u001b[1;34m'[name=\"%s\"]'\u001b[0m \u001b[1;33m%\u001b[0m \u001b[0mvalue\u001b[0m\u001b[1;33m\u001b[0m\u001b[1;33m\u001b[0m\u001b[0m\n\u001b[0;32m   1247\u001b[0m \u001b[1;33m\u001b[0m\u001b[0m\n\u001b[1;32m-> 1248\u001b[1;33m         return self.execute(Command.FIND_ELEMENT, {\n\u001b[0m\u001b[0;32m   1249\u001b[0m             \u001b[1;34m'using'\u001b[0m\u001b[1;33m:\u001b[0m \u001b[0mby\u001b[0m\u001b[1;33m,\u001b[0m\u001b[1;33m\u001b[0m\u001b[1;33m\u001b[0m\u001b[0m\n\u001b[0;32m   1250\u001b[0m             'value': value})['value']\n",
      "\u001b[1;32mC:\\ProgramData\\Anaconda3\\lib\\site-packages\\selenium\\webdriver\\remote\\webdriver.py\u001b[0m in \u001b[0;36mexecute\u001b[1;34m(self, driver_command, params)\u001b[0m\n\u001b[0;32m    423\u001b[0m         \u001b[0mresponse\u001b[0m \u001b[1;33m=\u001b[0m \u001b[0mself\u001b[0m\u001b[1;33m.\u001b[0m\u001b[0mcommand_executor\u001b[0m\u001b[1;33m.\u001b[0m\u001b[0mexecute\u001b[0m\u001b[1;33m(\u001b[0m\u001b[0mdriver_command\u001b[0m\u001b[1;33m,\u001b[0m \u001b[0mparams\u001b[0m\u001b[1;33m)\u001b[0m\u001b[1;33m\u001b[0m\u001b[1;33m\u001b[0m\u001b[0m\n\u001b[0;32m    424\u001b[0m         \u001b[1;32mif\u001b[0m \u001b[0mresponse\u001b[0m\u001b[1;33m:\u001b[0m\u001b[1;33m\u001b[0m\u001b[1;33m\u001b[0m\u001b[0m\n\u001b[1;32m--> 425\u001b[1;33m             \u001b[0mself\u001b[0m\u001b[1;33m.\u001b[0m\u001b[0merror_handler\u001b[0m\u001b[1;33m.\u001b[0m\u001b[0mcheck_response\u001b[0m\u001b[1;33m(\u001b[0m\u001b[0mresponse\u001b[0m\u001b[1;33m)\u001b[0m\u001b[1;33m\u001b[0m\u001b[1;33m\u001b[0m\u001b[0m\n\u001b[0m\u001b[0;32m    426\u001b[0m             response['value'] = self._unwrap_value(\n\u001b[0;32m    427\u001b[0m                 response.get('value', None))\n",
      "\u001b[1;32mC:\\ProgramData\\Anaconda3\\lib\\site-packages\\selenium\\webdriver\\remote\\errorhandler.py\u001b[0m in \u001b[0;36mcheck_response\u001b[1;34m(self, response)\u001b[0m\n\u001b[0;32m    245\u001b[0m                 \u001b[0malert_text\u001b[0m \u001b[1;33m=\u001b[0m \u001b[0mvalue\u001b[0m\u001b[1;33m[\u001b[0m\u001b[1;34m'alert'\u001b[0m\u001b[1;33m]\u001b[0m\u001b[1;33m.\u001b[0m\u001b[0mget\u001b[0m\u001b[1;33m(\u001b[0m\u001b[1;34m'text'\u001b[0m\u001b[1;33m)\u001b[0m\u001b[1;33m\u001b[0m\u001b[1;33m\u001b[0m\u001b[0m\n\u001b[0;32m    246\u001b[0m             \u001b[1;32mraise\u001b[0m \u001b[0mexception_class\u001b[0m\u001b[1;33m(\u001b[0m\u001b[0mmessage\u001b[0m\u001b[1;33m,\u001b[0m \u001b[0mscreen\u001b[0m\u001b[1;33m,\u001b[0m \u001b[0mstacktrace\u001b[0m\u001b[1;33m,\u001b[0m \u001b[0malert_text\u001b[0m\u001b[1;33m)\u001b[0m  \u001b[1;31m# type: ignore[call-arg]  # mypy is not smart enough here\u001b[0m\u001b[1;33m\u001b[0m\u001b[1;33m\u001b[0m\u001b[0m\n\u001b[1;32m--> 247\u001b[1;33m         \u001b[1;32mraise\u001b[0m \u001b[0mexception_class\u001b[0m\u001b[1;33m(\u001b[0m\u001b[0mmessage\u001b[0m\u001b[1;33m,\u001b[0m \u001b[0mscreen\u001b[0m\u001b[1;33m,\u001b[0m \u001b[0mstacktrace\u001b[0m\u001b[1;33m)\u001b[0m\u001b[1;33m\u001b[0m\u001b[1;33m\u001b[0m\u001b[0m\n\u001b[0m\u001b[0;32m    248\u001b[0m \u001b[1;33m\u001b[0m\u001b[0m\n\u001b[0;32m    249\u001b[0m     \u001b[1;32mdef\u001b[0m \u001b[0m_value_or_default\u001b[0m\u001b[1;33m(\u001b[0m\u001b[0mself\u001b[0m\u001b[1;33m,\u001b[0m \u001b[0mobj\u001b[0m\u001b[1;33m:\u001b[0m \u001b[0mMapping\u001b[0m\u001b[1;33m[\u001b[0m\u001b[0m_KT\u001b[0m\u001b[1;33m,\u001b[0m \u001b[0m_VT\u001b[0m\u001b[1;33m]\u001b[0m\u001b[1;33m,\u001b[0m \u001b[0mkey\u001b[0m\u001b[1;33m:\u001b[0m \u001b[0m_KT\u001b[0m\u001b[1;33m,\u001b[0m \u001b[0mdefault\u001b[0m\u001b[1;33m:\u001b[0m \u001b[0m_VT\u001b[0m\u001b[1;33m)\u001b[0m \u001b[1;33m->\u001b[0m \u001b[0m_VT\u001b[0m\u001b[1;33m:\u001b[0m\u001b[1;33m\u001b[0m\u001b[1;33m\u001b[0m\u001b[0m\n",
      "\u001b[1;31mNoSuchElementException\u001b[0m: Message: no such element: Unable to locate element: {\"method\":\"xpath\",\"selector\":\"//button[@class='_2KpZ6l _1FH0tX']\"}\n  (Session info: chrome=99.0.4844.82)\nStacktrace:\nBacktrace:\n\tOrdinal0 [0x003D9943+2595139]\n\tOrdinal0 [0x0036C9F1+2148849]\n\tOrdinal0 [0x00264528+1066280]\n\tOrdinal0 [0x00290FD4+1249236]\n\tOrdinal0 [0x002911CB+1249739]\n\tOrdinal0 [0x002BD812+1431570]\n\tOrdinal0 [0x002ABA34+1358388]\n\tOrdinal0 [0x002BBAF2+1424114]\n\tOrdinal0 [0x002AB806+1357830]\n\tOrdinal0 [0x00286086+1204358]\n\tOrdinal0 [0x00286F96+1208214]\n\tGetHandleVerifier [0x0057B232+1658114]\n\tGetHandleVerifier [0x0063312C+2411516]\n\tGetHandleVerifier [0x0046F261+560433]\n\tGetHandleVerifier [0x0046E366+556598]\n\tOrdinal0 [0x0037286B+2173035]\n\tOrdinal0 [0x003775F8+2192888]\n\tOrdinal0 [0x003776E5+2193125]\n\tOrdinal0 [0x003811FC+2232828]\n\tBaseThreadInitThunk [0x76CCFA29+25]\n\tRtlGetAppContainerNamedObjectPath [0x77C07A7E+286]\n\tRtlGetAppContainerNamedObjectPath [0x77C07A4E+238]\n"
     ]
    }
   ],
   "source": [
    "product_urls=[]\n",
    "brand_name=[]\n",
    "phone_name=[]\n",
    "phone_color=[]\n",
    "RAM=[]\n",
    "ROM=[]\n",
    "p_cam=[]\n",
    "s_cam=[]\n",
    "d_size=[]\n",
    "d_resolution=[]\n",
    "processor=[]\n",
    "processor_core=[]\n",
    "battery=[]\n",
    "price=[]\n",
    "\n",
    "\n",
    "urls=driver.find_elements_by_xpath(\"//a[@class='_1fQZEK']\")\n",
    "\n",
    "\n",
    "for i in urls:\n",
    "    product_urls.append(i.get_attribute('href'))\n",
    "    \n",
    "for i in product_urls:\n",
    "    driver.get(i)\n",
    "    \n",
    "    \n",
    "    driver.find_element_by_xpath(\"//button[@class='_2KpZ6l _1FH0tX']\").click()\n",
    "    \n",
    "   \n",
    "    try:\n",
    "        brand=driver.find_element_by_xpath(\"//span[@class='B_NuCI']\").text.split()\n",
    "        brand_name.append(brand[0])\n",
    "    except NoSuchElementException as e:\n",
    "        brand_name.append('-')     \n",
    "   \n",
    "    try:\n",
    "        phone=driver.find_element_by_xpath(\"//div[@class='_1UhVsV']/div[1]/table/tbody/tr[3]/td[2]\")\n",
    "        phone_name.append(phone.text)\n",
    "    except NoSuchElementException as e:\n",
    "        phone_name.append('-')     \n",
    "   \n",
    "    try:\n",
    "        color=driver.find_element_by_xpath(\"//div[@class='_1UhVsV']/div[1]/table/tbody/tr[4]/td[2]\")\n",
    "        phone_color.append(color.text)\n",
    "    except NoSuchElementException as e:\n",
    "        phone_color.append('-')       \n",
    "   \n",
    "    try:\n",
    "        RAM.append(driver.find_element_by_xpath('//div[@class=\"_1UhVsV\"]/div[4]/table/tbody/tr[2]/td[2]').text)\n",
    "    except NoSuchElementException as e:\n",
    "        RAM.append('-')   \n",
    "       \n",
    "    try:\n",
    "        ROM.append(driver.find_element_by_xpath('//div[@class=\"_1UhVsV\"]/div[4]/table/tbody/tr[1]/td[2]').text)\n",
    "    except NoSuchElementException as e:\n",
    "        ROM.append('-')\n",
    "        \n",
    "    try:\n",
    "        p_cam.append(driver.find_element_by_xpath('//div[@class=\"_1UhVsV\"]/div[5]/table/tbody/tr[2]/td[2]').text)\n",
    "    except NoSuchElementException as e:\n",
    "        p_cam.append('-')\n",
    "        \n",
    "    try:\n",
    "        s_cam.append(driver.find_element_by_xpath('//div[@class=\"_1UhVsV\"]/div[5]/table/tbody/tr[5]/td[2]').text)\n",
    "    except NoSuchElementException as e:\n",
    "        s_cam.append('-')\n",
    "         \n",
    "    try:\n",
    "        d_size.append(driver.find_element_by_xpath('//div[@class=\"_1UhVsV\"]/div[2]/table/tbody/tr[1]/td[2]').text)\n",
    "    except NoSuchElementException as e:\n",
    "        d_size.append('-')\n",
    "        \n",
    "    try:\n",
    "        d_resolution.append(driver.find_element_by_xpath('//div[@class=\"_1UhVsV\"]/div[2]/table/tbody/tr[2]/td[2]').text)\n",
    "    except NoSuchElementException as e:\n",
    "        d_resolution.append('-')\n",
    "        \n",
    "    try:\n",
    "        processor.append(driver.find_element_by_xpath('//div[@class=\"_1UhVsV\"]/div[3]/table/tbody/tr[2]/td[2]').text)\n",
    "    except NoSuchElementException as e:\n",
    "        processor.append('-')      \n",
    "    \n",
    "    try:\n",
    "        processor_core.append(driver.find_element_by_xpath('//div[@class=\"_1UhVsV\"]/div[3]/table/tbody/tr[3]/td[2]').text)\n",
    "    except NoSuchElementException as e: \n",
    "        processor_core.append('-')      \n",
    "    \n",
    "    try:\n",
    "        battery.append(driver.find_element_by_xpath('//div[@class=\"_1UhVsV\"]/div[10]/table/tbody/tr[1]/td[2]').text)\n",
    "    except NoSuchElementException as e:\n",
    "        battery.append('-')\n",
    "        \n",
    "    try:\n",
    "        price.append(driver.find_element_by_xpath('//div[@class=\"dyC4hf\"]/div/div/div').text)\n",
    "    except NoSuchElementException as e:\n",
    "        price.append('-')\n"
   ]
  },
  {
   "cell_type": "code",
   "execution_count": 38,
   "id": "69bd4076",
   "metadata": {},
   "outputs": [
    {
     "ename": "ValueError",
     "evalue": "Length of values (24) does not match length of index (1)",
     "output_type": "error",
     "traceback": [
      "\u001b[1;31m---------------------------------------------------------------------------\u001b[0m",
      "\u001b[1;31mValueError\u001b[0m                                Traceback (most recent call last)",
      "\u001b[1;32m~\\AppData\\Local\\Temp/ipykernel_19148/517840644.py\u001b[0m in \u001b[0;36m<module>\u001b[1;34m\u001b[0m\n\u001b[0;32m     13\u001b[0m \u001b[0mflipkart\u001b[0m\u001b[1;33m[\u001b[0m\u001b[1;34m'Battery Capacity'\u001b[0m\u001b[1;33m]\u001b[0m\u001b[1;33m=\u001b[0m\u001b[0mbattery\u001b[0m\u001b[1;33m\u001b[0m\u001b[1;33m\u001b[0m\u001b[0m\n\u001b[0;32m     14\u001b[0m \u001b[0mflipkart\u001b[0m\u001b[1;33m[\u001b[0m\u001b[1;34m'Price'\u001b[0m\u001b[1;33m]\u001b[0m\u001b[1;33m=\u001b[0m\u001b[0mprice\u001b[0m\u001b[1;33m\u001b[0m\u001b[1;33m\u001b[0m\u001b[0m\n\u001b[1;32m---> 15\u001b[1;33m \u001b[0mflipkart\u001b[0m\u001b[1;33m[\u001b[0m\u001b[1;34m'Product URL'\u001b[0m\u001b[1;33m]\u001b[0m\u001b[1;33m=\u001b[0m\u001b[0mproduct_urls\u001b[0m\u001b[1;33m\u001b[0m\u001b[1;33m\u001b[0m\u001b[0m\n\u001b[0m\u001b[0;32m     16\u001b[0m \u001b[1;33m\u001b[0m\u001b[0m\n\u001b[0;32m     17\u001b[0m \u001b[0mflipkart\u001b[0m\u001b[1;33m\u001b[0m\u001b[1;33m\u001b[0m\u001b[0m\n",
      "\u001b[1;32mC:\\ProgramData\\Anaconda3\\lib\\site-packages\\pandas\\core\\frame.py\u001b[0m in \u001b[0;36m__setitem__\u001b[1;34m(self, key, value)\u001b[0m\n\u001b[0;32m   3610\u001b[0m         \u001b[1;32melse\u001b[0m\u001b[1;33m:\u001b[0m\u001b[1;33m\u001b[0m\u001b[1;33m\u001b[0m\u001b[0m\n\u001b[0;32m   3611\u001b[0m             \u001b[1;31m# set column\u001b[0m\u001b[1;33m\u001b[0m\u001b[1;33m\u001b[0m\u001b[0m\n\u001b[1;32m-> 3612\u001b[1;33m             \u001b[0mself\u001b[0m\u001b[1;33m.\u001b[0m\u001b[0m_set_item\u001b[0m\u001b[1;33m(\u001b[0m\u001b[0mkey\u001b[0m\u001b[1;33m,\u001b[0m \u001b[0mvalue\u001b[0m\u001b[1;33m)\u001b[0m\u001b[1;33m\u001b[0m\u001b[1;33m\u001b[0m\u001b[0m\n\u001b[0m\u001b[0;32m   3613\u001b[0m \u001b[1;33m\u001b[0m\u001b[0m\n\u001b[0;32m   3614\u001b[0m     \u001b[1;32mdef\u001b[0m \u001b[0m_setitem_slice\u001b[0m\u001b[1;33m(\u001b[0m\u001b[0mself\u001b[0m\u001b[1;33m,\u001b[0m \u001b[0mkey\u001b[0m\u001b[1;33m:\u001b[0m \u001b[0mslice\u001b[0m\u001b[1;33m,\u001b[0m \u001b[0mvalue\u001b[0m\u001b[1;33m)\u001b[0m\u001b[1;33m:\u001b[0m\u001b[1;33m\u001b[0m\u001b[1;33m\u001b[0m\u001b[0m\n",
      "\u001b[1;32mC:\\ProgramData\\Anaconda3\\lib\\site-packages\\pandas\\core\\frame.py\u001b[0m in \u001b[0;36m_set_item\u001b[1;34m(self, key, value)\u001b[0m\n\u001b[0;32m   3782\u001b[0m         \u001b[0mensure\u001b[0m \u001b[0mhomogeneity\u001b[0m\u001b[1;33m.\u001b[0m\u001b[1;33m\u001b[0m\u001b[1;33m\u001b[0m\u001b[0m\n\u001b[0;32m   3783\u001b[0m         \"\"\"\n\u001b[1;32m-> 3784\u001b[1;33m         \u001b[0mvalue\u001b[0m \u001b[1;33m=\u001b[0m \u001b[0mself\u001b[0m\u001b[1;33m.\u001b[0m\u001b[0m_sanitize_column\u001b[0m\u001b[1;33m(\u001b[0m\u001b[0mvalue\u001b[0m\u001b[1;33m)\u001b[0m\u001b[1;33m\u001b[0m\u001b[1;33m\u001b[0m\u001b[0m\n\u001b[0m\u001b[0;32m   3785\u001b[0m \u001b[1;33m\u001b[0m\u001b[0m\n\u001b[0;32m   3786\u001b[0m         if (\n",
      "\u001b[1;32mC:\\ProgramData\\Anaconda3\\lib\\site-packages\\pandas\\core\\frame.py\u001b[0m in \u001b[0;36m_sanitize_column\u001b[1;34m(self, value)\u001b[0m\n\u001b[0;32m   4507\u001b[0m \u001b[1;33m\u001b[0m\u001b[0m\n\u001b[0;32m   4508\u001b[0m         \u001b[1;32mif\u001b[0m \u001b[0mis_list_like\u001b[0m\u001b[1;33m(\u001b[0m\u001b[0mvalue\u001b[0m\u001b[1;33m)\u001b[0m\u001b[1;33m:\u001b[0m\u001b[1;33m\u001b[0m\u001b[1;33m\u001b[0m\u001b[0m\n\u001b[1;32m-> 4509\u001b[1;33m             \u001b[0mcom\u001b[0m\u001b[1;33m.\u001b[0m\u001b[0mrequire_length_match\u001b[0m\u001b[1;33m(\u001b[0m\u001b[0mvalue\u001b[0m\u001b[1;33m,\u001b[0m \u001b[0mself\u001b[0m\u001b[1;33m.\u001b[0m\u001b[0mindex\u001b[0m\u001b[1;33m)\u001b[0m\u001b[1;33m\u001b[0m\u001b[1;33m\u001b[0m\u001b[0m\n\u001b[0m\u001b[0;32m   4510\u001b[0m         \u001b[1;32mreturn\u001b[0m \u001b[0msanitize_array\u001b[0m\u001b[1;33m(\u001b[0m\u001b[0mvalue\u001b[0m\u001b[1;33m,\u001b[0m \u001b[0mself\u001b[0m\u001b[1;33m.\u001b[0m\u001b[0mindex\u001b[0m\u001b[1;33m,\u001b[0m \u001b[0mcopy\u001b[0m\u001b[1;33m=\u001b[0m\u001b[1;32mTrue\u001b[0m\u001b[1;33m,\u001b[0m \u001b[0mallow_2d\u001b[0m\u001b[1;33m=\u001b[0m\u001b[1;32mTrue\u001b[0m\u001b[1;33m)\u001b[0m\u001b[1;33m\u001b[0m\u001b[1;33m\u001b[0m\u001b[0m\n\u001b[0;32m   4511\u001b[0m \u001b[1;33m\u001b[0m\u001b[0m\n",
      "\u001b[1;32mC:\\ProgramData\\Anaconda3\\lib\\site-packages\\pandas\\core\\common.py\u001b[0m in \u001b[0;36mrequire_length_match\u001b[1;34m(data, index)\u001b[0m\n\u001b[0;32m    529\u001b[0m     \"\"\"\n\u001b[0;32m    530\u001b[0m     \u001b[1;32mif\u001b[0m \u001b[0mlen\u001b[0m\u001b[1;33m(\u001b[0m\u001b[0mdata\u001b[0m\u001b[1;33m)\u001b[0m \u001b[1;33m!=\u001b[0m \u001b[0mlen\u001b[0m\u001b[1;33m(\u001b[0m\u001b[0mindex\u001b[0m\u001b[1;33m)\u001b[0m\u001b[1;33m:\u001b[0m\u001b[1;33m\u001b[0m\u001b[1;33m\u001b[0m\u001b[0m\n\u001b[1;32m--> 531\u001b[1;33m         raise ValueError(\n\u001b[0m\u001b[0;32m    532\u001b[0m             \u001b[1;34m\"Length of values \"\u001b[0m\u001b[1;33m\u001b[0m\u001b[1;33m\u001b[0m\u001b[0m\n\u001b[0;32m    533\u001b[0m             \u001b[1;34mf\"({len(data)}) \"\u001b[0m\u001b[1;33m\u001b[0m\u001b[1;33m\u001b[0m\u001b[0m\n",
      "\u001b[1;31mValueError\u001b[0m: Length of values (24) does not match length of index (1)"
     ]
    }
   ],
   "source": [
    "flipkart=pd.DataFrame({})\n",
    "flipkart['Brand']=brand_name\n",
    "flipkart['Phone Name']=phone_name\n",
    "flipkart['Color']=phone_color\n",
    "flipkart['RAM']=RAM\n",
    "flipkart['Storage (ROM)']=ROM\n",
    "flipkart['Primary Camera']=p_cam\n",
    "flipkart['Secondary Camera']=s_cam\n",
    "flipkart['Display Size']=d_size\n",
    "flipkart['Display Resolution']=d_resolution\n",
    "flipkart['Processor']=processor\n",
    "flipkart['Processor Core']=processor_core\n",
    "flipkart['Battery Capacity']=battery\n",
    "flipkart['Price']=price\n",
    "flipkart['Product URL']=product_urls\n",
    "\n",
    "flipkart"
   ]
  },
  {
   "cell_type": "code",
   "execution_count": null,
   "id": "8395ff3a",
   "metadata": {},
   "outputs": [],
   "source": []
  },
  {
   "cell_type": "code",
   "execution_count": null,
   "id": "28bb9429",
   "metadata": {},
   "outputs": [],
   "source": []
  }
 ],
 "metadata": {
  "kernelspec": {
   "display_name": "Python 3 (ipykernel)",
   "language": "python",
   "name": "python3"
  },
  "language_info": {
   "codemirror_mode": {
    "name": "ipython",
    "version": 3
   },
   "file_extension": ".py",
   "mimetype": "text/x-python",
   "name": "python",
   "nbconvert_exporter": "python",
   "pygments_lexer": "ipython3",
   "version": "3.9.7"
  }
 },
 "nbformat": 4,
 "nbformat_minor": 5
}
