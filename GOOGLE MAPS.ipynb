{
 "cells": [
  {
   "cell_type": "markdown",
   "id": "37d0e98f",
   "metadata": {},
   "source": [
    "# WEBSCRAPING ASSIGNMENT-3"
   ]
  },
  {
   "cell_type": "markdown",
   "id": "4282b60a",
   "metadata": {},
   "source": [
    "## ANS-5"
   ]
  },
  {
   "cell_type": "code",
   "execution_count": 1,
   "id": "0e72fe6d",
   "metadata": {},
   "outputs": [],
   "source": [
    "import selenium\n",
    "import pandas as pd\n",
    "from selenium import webdriver\n",
    "import time\n",
    "from selenium.common.exceptions import NoSuchElementException\n",
    "from selenium.webdriver.common.keys import Keys"
   ]
  },
  {
   "cell_type": "code",
   "execution_count": 2,
   "id": "f4aab2d1",
   "metadata": {},
   "outputs": [],
   "source": [
    "\n",
    "from selenium import webdriver\n",
    "from selenium.webdriver.chrome.service import Service\n",
    "\n",
    "s = Service(r'C:/Users/DELL/Downloads/chromedriver_win32/chromedriver.exe')\n",
    "driver = webdriver.Chrome(service=s)"
   ]
  },
  {
   "cell_type": "code",
   "execution_count": 3,
   "id": "c01727bf",
   "metadata": {},
   "outputs": [],
   "source": [
    "driver.get('https://www.google.com/maps')"
   ]
  },
  {
   "cell_type": "code",
   "execution_count": null,
   "id": "7ea032a4",
   "metadata": {},
   "outputs": [],
   "source": [
    "city=input(\"Enter City:\")\n",
    "driver.find_element_by_xpath(\"//button[@class='searchbox-searchbutton']\").send_keys(city)"
   ]
  },
  {
   "cell_type": "code",
   "execution_count": null,
   "id": "a743f9a2",
   "metadata": {},
   "outputs": [],
   "source": [
    "driver.find_element_by_xpath(\"//button[@class='searchbox-searchbutton']\").send_keys(Keys.ENTER)"
   ]
  },
  {
   "cell_type": "code",
   "execution_count": null,
   "id": "0179482e",
   "metadata": {},
   "outputs": [],
   "source": [
    "coordinates=driver.current_url\n",
    "lat=coordinates.split('@')[1].split(',')[0]\n",
    "long=coordinates.split('@')[1].split(',')[1].split(',')[0]\n",
    "print('Latitude: ',lat)\n",
    "print('Longitude: ',long)"
   ]
  },
  {
   "cell_type": "code",
   "execution_count": null,
   "id": "a948ee46",
   "metadata": {},
   "outputs": [],
   "source": [
    "driver.close()"
   ]
  },
  {
   "cell_type": "code",
   "execution_count": null,
   "id": "ace36fa0",
   "metadata": {},
   "outputs": [],
   "source": []
  }
 ],
 "metadata": {
  "kernelspec": {
   "display_name": "Python 3 (ipykernel)",
   "language": "python",
   "name": "python3"
  },
  "language_info": {
   "codemirror_mode": {
    "name": "ipython",
    "version": 3
   },
   "file_extension": ".py",
   "mimetype": "text/x-python",
   "name": "python",
   "nbconvert_exporter": "python",
   "pygments_lexer": "ipython3",
   "version": "3.9.7"
  }
 },
 "nbformat": 4,
 "nbformat_minor": 5
}
